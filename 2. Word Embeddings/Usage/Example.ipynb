{
 "cells": [
  {
   "cell_type": "code",
   "execution_count": 1,
   "metadata": {
    "ExecuteTime": {
     "end_time": "2021-09-22T10:49:24.096538Z",
     "start_time": "2021-09-22T10:49:24.090074Z"
    }
   },
   "outputs": [],
   "source": [
    "ru_text = \"\"\"\n",
    "Привет, меня зовут Тушин Кирилл,\n",
    "я родился 26.09.1997, закончил МФТИ.\n",
    "Я пытаюсь освоить курс по анализу текста!\n",
    "Тестовый телефон: 89876543210\n",
    "Тестовая почта: myemail@email.com\n",
    "Тестовая сумма денег: 123456$\n",
    "😎 🔥 ✌️\n",
    "\"\"\"\n",
    "\n",
    "en_text = \"\"\"\n",
    "Hi, my name is Kirill Tushin,\n",
    "I was born on 26.09.1997, graduated from MIPT.\n",
    "I'm trying to master a course on text analysis!\n",
    "Test phone: 89876543210\n",
    "Test mail: myemail@email.com\n",
    "Test amount of money: 123456$\n",
    "😎  🔥  ✌️\n",
    "\"\"\""
   ]
  },
  {
   "cell_type": "code",
   "execution_count": 2,
   "metadata": {
    "ExecuteTime": {
     "end_time": "2021-09-22T10:49:24.144097Z",
     "start_time": "2021-09-22T10:49:24.100420Z"
    }
   },
   "outputs": [],
   "source": [
    "def clean_dataset(dataset):\n",
    "    dataset = [string.strip() for string in dataset]\n",
    "    dataset = [string for string in dataset if string]\n",
    "    return dataset\n",
    "\n",
    "\n",
    "with open('../../data/war_and_peace_ru.txt', 'r') as ru_dataset_file:\n",
    "    ru_dataset = ru_dataset_file.readlines()\n",
    "    ru_dataset = clean_dataset(ru_dataset)\n",
    "    \n",
    "with open('../../data/the_picture_of_dorian_gray.txt', 'r') as en_dataset_file:\n",
    "    en_dataset = en_dataset_file.readlines()\n",
    "    en_dataset = clean_dataset(en_dataset)\n",
    "\n",
    "\n",
    "full_dataset = ru_dataset + en_dataset"
   ]
  },
  {
   "cell_type": "markdown",
   "metadata": {},
   "source": [
    "# Word2Vec"
   ]
  },
  {
   "cell_type": "code",
   "execution_count": 3,
   "metadata": {
    "ExecuteTime": {
     "end_time": "2021-09-22T10:49:24.955346Z",
     "start_time": "2021-09-22T10:49:24.147415Z"
    }
   },
   "outputs": [],
   "source": [
    "import gensim"
   ]
  },
  {
   "cell_type": "markdown",
   "metadata": {},
   "source": [
    "## Train"
   ]
  },
  {
   "cell_type": "code",
   "execution_count": 4,
   "metadata": {
    "ExecuteTime": {
     "end_time": "2021-09-22T10:49:27.527039Z",
     "start_time": "2021-09-22T10:49:24.958074Z"
    }
   },
   "outputs": [
    {
     "name": "stdout",
     "output_type": "stream",
     "text": [
      "CPU times: user 5.81 s, sys: 132 ms, total: 5.95 s\n",
      "Wall time: 2.56 s\n"
     ]
    }
   ],
   "source": [
    "%%time\n",
    "\n",
    "ru_list_of_tokens = [x.split() for x in ru_dataset]\n",
    "\n",
    "ru_word2vec_model = gensim.models.Word2Vec(\n",
    "    ru_list_of_tokens,  # Dataset\n",
    "    vector_size=150,  # Embedding Dim\n",
    "    window=10,  # Window for neighbors\n",
    "    min_count=2,  # Threshold to add word into vocabulary\n",
    "    epochs=10,  # Number of epochs to train model\n",
    ")"
   ]
  },
  {
   "cell_type": "markdown",
   "metadata": {},
   "source": [
    "## Save"
   ]
  },
  {
   "cell_type": "code",
   "execution_count": 5,
   "metadata": {
    "ExecuteTime": {
     "end_time": "2021-09-22T10:49:27.591113Z",
     "start_time": "2021-09-22T10:49:27.530194Z"
    }
   },
   "outputs": [],
   "source": [
    "ru_word2vec_model.save('ru_word2vec_model')"
   ]
  },
  {
   "cell_type": "markdown",
   "metadata": {},
   "source": [
    "## Load"
   ]
  },
  {
   "cell_type": "code",
   "execution_count": 6,
   "metadata": {
    "ExecuteTime": {
     "end_time": "2021-09-22T10:49:27.821742Z",
     "start_time": "2021-09-22T10:49:27.595246Z"
    }
   },
   "outputs": [],
   "source": [
    "ru_word2vec_model = gensim.models.Word2Vec.load('ru_word2vec_model')"
   ]
  },
  {
   "cell_type": "markdown",
   "metadata": {
    "ExecuteTime": {
     "end_time": "2021-09-22T09:30:00.913205Z",
     "start_time": "2021-09-22T09:30:00.911070Z"
    }
   },
   "source": [
    "## Usage"
   ]
  },
  {
   "cell_type": "markdown",
   "metadata": {},
   "source": [
    "### Word Embedding"
   ]
  },
  {
   "cell_type": "code",
   "execution_count": 7,
   "metadata": {
    "ExecuteTime": {
     "end_time": "2021-09-22T10:49:27.836907Z",
     "start_time": "2021-09-22T10:49:27.824903Z"
    }
   },
   "outputs": [
    {
     "data": {
      "text/plain": [
       "array([ 3.02021001e-02, -4.82140528e-03, -4.13925340e-03,  2.70679686e-02,\n",
       "       -1.66919397e-03,  6.85095508e-03, -3.90300207e-04,  1.26281232e-01,\n",
       "       -3.41660739e-03, -1.91493668e-02,  4.54541035e-02,  2.42535863e-02,\n",
       "       -1.18106321e-01,  3.95500734e-02, -6.37374967e-02,  7.38273701e-03,\n",
       "        7.12082982e-02,  6.91025984e-04, -6.13153772e-03,  7.93697312e-02,\n",
       "       -5.67051657e-02,  2.69916747e-02,  8.44411850e-02,  5.57372943e-02,\n",
       "        1.61672309e-02, -6.01726063e-02, -1.41567560e-02, -2.79626828e-02,\n",
       "       -1.33444369e-02, -1.04471810e-01, -6.00705855e-02,  1.29980799e-02,\n",
       "       -4.11855849e-03, -1.00049619e-02, -2.36125216e-02,  2.51449738e-02,\n",
       "        8.32455456e-02, -1.26472441e-02,  3.27564031e-02, -9.10971165e-02,\n",
       "        5.49898110e-03,  4.48284075e-02, -7.41146803e-02, -4.46553938e-02,\n",
       "        5.62046580e-02,  3.01241092e-02, -6.19156398e-02, -4.06440385e-02,\n",
       "       -9.26182605e-03,  8.85270536e-02,  1.31184179e-02,  2.34710239e-02,\n",
       "       -1.69672184e-02,  1.37594780e-02,  9.79846157e-03,  1.93260163e-02,\n",
       "        1.07219899e-02, -2.86164992e-02,  1.56978741e-02,  1.14985760e-02,\n",
       "       -7.18988329e-02, -7.00532496e-02, -1.76333345e-03, -2.25318484e-02,\n",
       "        6.82845712e-02, -6.96690306e-02, -1.62726920e-02, -4.23894972e-02,\n",
       "       -8.29899609e-02, -6.66268766e-02, -2.26383116e-02,  4.03178111e-02,\n",
       "       -1.93021167e-02, -1.25133783e-01,  3.09929661e-02, -6.19519455e-03,\n",
       "        1.33495918e-02,  1.69813186e-02, -1.10397920e-01,  7.81811327e-02,\n",
       "        6.73596039e-02, -7.96197206e-02, -3.34888212e-02,  1.57833412e-01,\n",
       "       -4.16301265e-02,  1.92971956e-02, -4.78250086e-02,  1.38958748e-02,\n",
       "        6.76744431e-02, -7.07529113e-02,  3.40800360e-02, -6.76550940e-02,\n",
       "       -5.07086143e-02,  3.19530815e-02,  9.38270092e-02, -2.06056535e-02,\n",
       "        3.83866318e-02, -9.84762982e-03, -3.47113796e-02,  8.23717564e-02,\n",
       "        2.64487453e-02, -1.28069648e-03,  3.27174924e-02, -4.79598250e-03,\n",
       "       -2.42120717e-02, -8.04349706e-02,  5.46520352e-02, -8.21032375e-03,\n",
       "       -1.31846428e-01, -6.51626661e-02, -4.43266183e-02, -1.28022404e-02,\n",
       "        4.05797325e-02, -5.45122474e-02, -9.22801420e-02,  6.38643429e-02,\n",
       "        5.05845658e-02,  9.37121585e-02, -3.58049013e-02, -3.83795202e-02,\n",
       "        5.95887471e-03,  6.41843230e-02,  7.33291730e-02,  9.82880220e-03,\n",
       "        4.23949845e-02,  8.33915174e-02,  9.74596769e-04,  8.61812383e-03,\n",
       "       -1.42317891e-01,  3.87887210e-02,  3.26889977e-02,  2.65012570e-02,\n",
       "       -6.10476267e-03, -2.70963572e-02,  1.05241430e-04,  2.07433738e-02,\n",
       "       -6.67595863e-02,  5.21071488e-04, -1.38964765e-02,  4.35417751e-03,\n",
       "        5.41791357e-02,  2.43914202e-02,  6.83103278e-02,  4.28896770e-02,\n",
       "        1.46613821e-01,  9.25973430e-02, -5.28277345e-02, -1.02664150e-01,\n",
       "        6.12265654e-02, -5.12119047e-02], dtype=float32)"
      ]
     },
     "execution_count": 7,
     "metadata": {},
     "output_type": "execute_result"
    }
   ],
   "source": [
    "ru_word2vec_model.wv['мама']"
   ]
  },
  {
   "cell_type": "code",
   "execution_count": 8,
   "metadata": {
    "ExecuteTime": {
     "end_time": "2021-09-22T10:49:28.018832Z",
     "start_time": "2021-09-22T10:49:27.839239Z"
    }
   },
   "outputs": [
    {
     "ename": "KeyError",
     "evalue": "\"Key 'dbfhsijokpal[;dksmfjnbhdekopfd]' not present\"",
     "output_type": "error",
     "traceback": [
      "\u001b[0;31m---------------------------------------------------------------------------\u001b[0m",
      "\u001b[0;31mKeyError\u001b[0m                                  Traceback (most recent call last)",
      "\u001b[0;32m<ipython-input-8-266048304185>\u001b[0m in \u001b[0;36m<module>\u001b[0;34m()\u001b[0m\n\u001b[0;32m----> 1\u001b[0;31m \u001b[0mru_word2vec_model\u001b[0m\u001b[0;34m.\u001b[0m\u001b[0mwv\u001b[0m\u001b[0;34m[\u001b[0m\u001b[0;34m'dbfhsijokpal[;dksmfjnbhdekopfd]'\u001b[0m\u001b[0;34m]\u001b[0m\u001b[0;34m\u001b[0m\u001b[0;34m\u001b[0m\u001b[0m\n\u001b[0m",
      "\u001b[0;32m/opt/miniconda3/envs/kaggle/lib/python3.6/site-packages/gensim/models/keyedvectors.py\u001b[0m in \u001b[0;36m__getitem__\u001b[0;34m(self, key_or_keys)\u001b[0m\n\u001b[1;32m    377\u001b[0m         \"\"\"\n\u001b[1;32m    378\u001b[0m         \u001b[0;32mif\u001b[0m \u001b[0misinstance\u001b[0m\u001b[0;34m(\u001b[0m\u001b[0mkey_or_keys\u001b[0m\u001b[0;34m,\u001b[0m \u001b[0mKEY_TYPES\u001b[0m\u001b[0;34m)\u001b[0m\u001b[0;34m:\u001b[0m\u001b[0;34m\u001b[0m\u001b[0;34m\u001b[0m\u001b[0m\n\u001b[0;32m--> 379\u001b[0;31m             \u001b[0;32mreturn\u001b[0m \u001b[0mself\u001b[0m\u001b[0;34m.\u001b[0m\u001b[0mget_vector\u001b[0m\u001b[0;34m(\u001b[0m\u001b[0mkey_or_keys\u001b[0m\u001b[0;34m)\u001b[0m\u001b[0;34m\u001b[0m\u001b[0;34m\u001b[0m\u001b[0m\n\u001b[0m\u001b[1;32m    380\u001b[0m \u001b[0;34m\u001b[0m\u001b[0m\n\u001b[1;32m    381\u001b[0m         \u001b[0;32mreturn\u001b[0m \u001b[0mvstack\u001b[0m\u001b[0;34m(\u001b[0m\u001b[0;34m[\u001b[0m\u001b[0mself\u001b[0m\u001b[0;34m.\u001b[0m\u001b[0mget_vector\u001b[0m\u001b[0;34m(\u001b[0m\u001b[0mkey\u001b[0m\u001b[0;34m)\u001b[0m \u001b[0;32mfor\u001b[0m \u001b[0mkey\u001b[0m \u001b[0;32min\u001b[0m \u001b[0mkey_or_keys\u001b[0m\u001b[0;34m]\u001b[0m\u001b[0;34m)\u001b[0m\u001b[0;34m\u001b[0m\u001b[0;34m\u001b[0m\u001b[0m\n",
      "\u001b[0;32m/opt/miniconda3/envs/kaggle/lib/python3.6/site-packages/gensim/models/keyedvectors.py\u001b[0m in \u001b[0;36mget_vector\u001b[0;34m(self, key, norm)\u001b[0m\n\u001b[1;32m    420\u001b[0m \u001b[0;34m\u001b[0m\u001b[0m\n\u001b[1;32m    421\u001b[0m         \"\"\"\n\u001b[0;32m--> 422\u001b[0;31m         \u001b[0mindex\u001b[0m \u001b[0;34m=\u001b[0m \u001b[0mself\u001b[0m\u001b[0;34m.\u001b[0m\u001b[0mget_index\u001b[0m\u001b[0;34m(\u001b[0m\u001b[0mkey\u001b[0m\u001b[0;34m)\u001b[0m\u001b[0;34m\u001b[0m\u001b[0;34m\u001b[0m\u001b[0m\n\u001b[0m\u001b[1;32m    423\u001b[0m         \u001b[0;32mif\u001b[0m \u001b[0mnorm\u001b[0m\u001b[0;34m:\u001b[0m\u001b[0;34m\u001b[0m\u001b[0;34m\u001b[0m\u001b[0m\n\u001b[1;32m    424\u001b[0m             \u001b[0mself\u001b[0m\u001b[0;34m.\u001b[0m\u001b[0mfill_norms\u001b[0m\u001b[0;34m(\u001b[0m\u001b[0;34m)\u001b[0m\u001b[0;34m\u001b[0m\u001b[0;34m\u001b[0m\u001b[0m\n",
      "\u001b[0;32m/opt/miniconda3/envs/kaggle/lib/python3.6/site-packages/gensim/models/keyedvectors.py\u001b[0m in \u001b[0;36mget_index\u001b[0;34m(self, key, default)\u001b[0m\n\u001b[1;32m    394\u001b[0m             \u001b[0;32mreturn\u001b[0m \u001b[0mdefault\u001b[0m\u001b[0;34m\u001b[0m\u001b[0;34m\u001b[0m\u001b[0m\n\u001b[1;32m    395\u001b[0m         \u001b[0;32melse\u001b[0m\u001b[0;34m:\u001b[0m\u001b[0;34m\u001b[0m\u001b[0;34m\u001b[0m\u001b[0m\n\u001b[0;32m--> 396\u001b[0;31m             \u001b[0;32mraise\u001b[0m \u001b[0mKeyError\u001b[0m\u001b[0;34m(\u001b[0m\u001b[0;34mf\"Key '{key}' not present\"\u001b[0m\u001b[0;34m)\u001b[0m\u001b[0;34m\u001b[0m\u001b[0;34m\u001b[0m\u001b[0m\n\u001b[0m\u001b[1;32m    397\u001b[0m \u001b[0;34m\u001b[0m\u001b[0m\n\u001b[1;32m    398\u001b[0m     \u001b[0;32mdef\u001b[0m \u001b[0mget_vector\u001b[0m\u001b[0;34m(\u001b[0m\u001b[0mself\u001b[0m\u001b[0;34m,\u001b[0m \u001b[0mkey\u001b[0m\u001b[0;34m,\u001b[0m \u001b[0mnorm\u001b[0m\u001b[0;34m=\u001b[0m\u001b[0;32mFalse\u001b[0m\u001b[0;34m)\u001b[0m\u001b[0;34m:\u001b[0m\u001b[0;34m\u001b[0m\u001b[0;34m\u001b[0m\u001b[0m\n",
      "\u001b[0;31mKeyError\u001b[0m: \"Key 'dbfhsijokpal[;dksmfjnbhdekopfd]' not present\""
     ]
    }
   ],
   "source": [
    "ru_word2vec_model.wv['dbfhsijokpal[;dksmfjnbhdekopfd]']"
   ]
  },
  {
   "cell_type": "markdown",
   "metadata": {},
   "source": [
    "### Similarity"
   ]
  },
  {
   "cell_type": "code",
   "execution_count": 9,
   "metadata": {
    "ExecuteTime": {
     "end_time": "2021-09-22T10:49:34.757825Z",
     "start_time": "2021-09-22T10:49:34.745764Z"
    }
   },
   "outputs": [
    {
     "data": {
      "text/plain": [
       "[('горизонт', 0.938174843788147),\n",
       " ('адъютантском', 0.9327242374420166),\n",
       " ('орденах,', 0.9326286911964417),\n",
       " ('стены.', 0.9288221597671509),\n",
       " ('портрет', 0.9256203770637512),\n",
       " ('отоманке', 0.9229714274406433),\n",
       " ('поражал', 0.9194163084030151),\n",
       " ('пятна,', 0.9162595868110657),\n",
       " ('главнокомандующих', 0.9152465462684631),\n",
       " ('глядят', 0.910675048828125)]"
      ]
     },
     "execution_count": 9,
     "metadata": {},
     "output_type": "execute_result"
    }
   ],
   "source": [
    "ru_word2vec_model.wv.most_similar(\n",
    "    positive=['мама'],\n",
    "    negative=['папа'],\n",
    ")"
   ]
  },
  {
   "cell_type": "code",
   "execution_count": 10,
   "metadata": {
    "ExecuteTime": {
     "end_time": "2021-09-22T10:49:34.765069Z",
     "start_time": "2021-09-22T10:49:34.760527Z"
    }
   },
   "outputs": [
    {
     "data": {
      "text/plain": [
       "0.76599634"
      ]
     },
     "execution_count": 10,
     "metadata": {},
     "output_type": "execute_result"
    }
   ],
   "source": [
    "ru_word2vec_model.wv.similarity(\n",
    "    w1='мама',\n",
    "    w2='папа',\n",
    ")"
   ]
  },
  {
   "cell_type": "code",
   "execution_count": 11,
   "metadata": {
    "ExecuteTime": {
     "end_time": "2021-09-22T10:49:34.772868Z",
     "start_time": "2021-09-22T10:49:34.767963Z"
    }
   },
   "outputs": [
    {
     "data": {
      "text/plain": [
       "0.32267654"
      ]
     },
     "execution_count": 11,
     "metadata": {},
     "output_type": "execute_result"
    }
   ],
   "source": [
    "ru_word2vec_model.wv.similarity(\n",
    "    w1='богатый',\n",
    "    w2='князь',\n",
    ")"
   ]
  },
  {
   "cell_type": "markdown",
   "metadata": {},
   "source": [
    "### Word Match"
   ]
  },
  {
   "cell_type": "code",
   "execution_count": 12,
   "metadata": {
    "ExecuteTime": {
     "end_time": "2021-09-22T10:49:34.780598Z",
     "start_time": "2021-09-22T10:49:34.775270Z"
    }
   },
   "outputs": [
    {
     "data": {
      "text/plain": [
       "'князь'"
      ]
     },
     "execution_count": 12,
     "metadata": {},
     "output_type": "execute_result"
    }
   ],
   "source": [
    "ru_word2vec_model.wv.doesnt_match(['люди', 'закон', 'крестьяне', 'земля', 'князь'])"
   ]
  },
  {
   "cell_type": "markdown",
   "metadata": {},
   "source": [
    "### Word Movement Distance"
   ]
  },
  {
   "cell_type": "code",
   "execution_count": 13,
   "metadata": {
    "ExecuteTime": {
     "end_time": "2021-09-22T10:49:34.793257Z",
     "start_time": "2021-09-22T10:49:34.786467Z"
    }
   },
   "outputs": [
    {
     "data": {
      "text/plain": [
       "1.2986247539520264"
      ]
     },
     "execution_count": 13,
     "metadata": {},
     "output_type": "execute_result"
    }
   ],
   "source": [
    "ru_word2vec_model.wv.wmdistance(['крестьяне', 'земля'], ['князь', 'богатсвтво'])"
   ]
  },
  {
   "cell_type": "code",
   "execution_count": 14,
   "metadata": {
    "ExecuteTime": {
     "end_time": "2021-09-22T10:49:34.800185Z",
     "start_time": "2021-09-22T10:49:34.795663Z"
    }
   },
   "outputs": [
    {
     "data": {
      "text/plain": [
       "0.5155532816905976"
      ]
     },
     "execution_count": 14,
     "metadata": {},
     "output_type": "execute_result"
    }
   ],
   "source": [
    "ru_word2vec_model.wv.wmdistance(['крестьяне', 'земля'], ['обед', 'ужин'])"
   ]
  },
  {
   "cell_type": "code",
   "execution_count": 15,
   "metadata": {
    "ExecuteTime": {
     "end_time": "2021-09-22T10:49:34.807389Z",
     "start_time": "2021-09-22T10:49:34.803297Z"
    }
   },
   "outputs": [
    {
     "data": {
      "text/plain": [
       "inf"
      ]
     },
     "execution_count": 15,
     "metadata": {},
     "output_type": "execute_result"
    }
   ],
   "source": [
    "ru_word2vec_model.wv.wmdistance(['крестьяне', 'земля'], ['бедность', 'нищета'])"
   ]
  },
  {
   "cell_type": "markdown",
   "metadata": {},
   "source": [
    "# FastText"
   ]
  },
  {
   "cell_type": "markdown",
   "metadata": {
    "ExecuteTime": {
     "end_time": "2021-09-22T09:43:20.058497Z",
     "start_time": "2021-09-22T09:43:20.055867Z"
    }
   },
   "source": [
    "## Train"
   ]
  },
  {
   "cell_type": "code",
   "execution_count": 16,
   "metadata": {
    "ExecuteTime": {
     "end_time": "2021-09-22T10:49:52.779236Z",
     "start_time": "2021-09-22T10:49:34.818233Z"
    }
   },
   "outputs": [
    {
     "name": "stdout",
     "output_type": "stream",
     "text": [
      "CPU times: user 42.9 s, sys: 603 ms, total: 43.5 s\n",
      "Wall time: 18 s\n"
     ]
    }
   ],
   "source": [
    "%%time\n",
    "\n",
    "ru_list_of_tokens = [x.split() for x in ru_dataset]\n",
    "\n",
    "ru_fasttext_model = gensim.models.FastText(\n",
    "    ru_list_of_tokens,  # Dataset\n",
    "    vector_size=150,  # Embedding Dim\n",
    "    window=10,  # Window for neighbors\n",
    "    min_count=2,  # Threshold to add word into vocabulary\n",
    "    epochs=10,  # Number of epochs to train model\n",
    ")"
   ]
  },
  {
   "cell_type": "markdown",
   "metadata": {},
   "source": [
    "## Save"
   ]
  },
  {
   "cell_type": "code",
   "execution_count": 17,
   "metadata": {
    "ExecuteTime": {
     "end_time": "2021-09-22T10:49:56.120756Z",
     "start_time": "2021-09-22T10:49:52.782584Z"
    }
   },
   "outputs": [],
   "source": [
    "ru_fasttext_model.save('ru_fasttext_model')"
   ]
  },
  {
   "cell_type": "markdown",
   "metadata": {},
   "source": [
    "## Load"
   ]
  },
  {
   "cell_type": "code",
   "execution_count": 18,
   "metadata": {
    "ExecuteTime": {
     "end_time": "2021-09-22T10:49:58.401508Z",
     "start_time": "2021-09-22T10:49:56.124188Z"
    }
   },
   "outputs": [],
   "source": [
    "ru_fasttext_model = gensim.models.Word2Vec.load('ru_fasttext_model')"
   ]
  },
  {
   "cell_type": "markdown",
   "metadata": {},
   "source": [
    "## Usage"
   ]
  },
  {
   "cell_type": "markdown",
   "metadata": {},
   "source": [
    "### Word Embedding"
   ]
  },
  {
   "cell_type": "code",
   "execution_count": 19,
   "metadata": {
    "ExecuteTime": {
     "end_time": "2021-09-22T10:49:58.416134Z",
     "start_time": "2021-09-22T10:49:58.405756Z"
    }
   },
   "outputs": [
    {
     "data": {
      "text/plain": [
       "array([ 0.31411287,  0.23189479, -0.05290234,  0.19873315, -0.04629235,\n",
       "        0.37327373,  0.4277613 ,  0.23273039, -0.30199024, -0.38448507,\n",
       "        0.17578235, -0.10291545, -0.05303003,  0.38595143,  0.09630149,\n",
       "       -0.07306317, -0.19369277, -0.2989907 ,  0.28131506,  0.17944105,\n",
       "        0.14875956,  0.01910911,  0.44533542,  0.49348515,  0.18903035,\n",
       "        0.17017512, -0.14187588, -0.13279122,  0.14810525, -0.1644329 ,\n",
       "       -0.5556809 , -0.33517686,  0.16557693, -0.15214342, -0.32673952,\n",
       "        0.17141977,  0.27005282, -0.29150188,  0.03150325, -0.22757028,\n",
       "       -0.08539229,  0.28600773, -0.08683836, -0.39011535,  0.05625081,\n",
       "        0.14162959,  0.1188933 ,  0.37384233, -0.36189452,  0.00820126,\n",
       "        0.30949584,  0.27978274, -0.07966378, -0.38477677, -0.02372113,\n",
       "       -0.09463379, -0.20705141,  0.10458355, -0.19246587,  0.10763201,\n",
       "       -0.01599042, -0.28068706,  0.00595285, -0.2605104 , -0.06117827,\n",
       "       -0.05936556, -0.2937391 ,  0.12864803,  0.16759634, -0.10362282,\n",
       "       -0.16098733,  0.10893294, -0.25575495, -0.17667188, -0.05691023,\n",
       "       -0.0093949 ,  0.12194388,  0.05363826, -0.13840765,  0.00198234,\n",
       "       -0.2599795 , -0.13660006,  0.24041872,  0.16854547, -0.04928906,\n",
       "       -0.09506349, -0.06370645,  0.1563768 ,  0.11451275, -0.08354488,\n",
       "        0.12814383,  0.06562123, -0.03367446, -0.06203626,  0.13421467,\n",
       "        0.46815908, -0.0728622 , -0.19758183,  0.08491054,  0.5610006 ,\n",
       "       -0.09299626, -0.13431115, -0.01967731, -0.19830173, -0.06544036,\n",
       "       -0.06668076, -0.01499485, -0.24377814, -0.0294416 , -0.00924227,\n",
       "       -0.38131663,  0.10216089, -0.57050306,  0.340457  , -0.14535294,\n",
       "       -0.16274434,  0.21244822,  0.17023295,  0.09883379,  0.2913628 ,\n",
       "       -0.10261617, -0.06347436, -0.09383004, -0.17110102,  0.14633109,\n",
       "        0.3831534 , -0.22445053,  0.2520902 , -0.3665919 , -0.20735097,\n",
       "        0.11609056, -0.23129977,  0.07863506, -0.06110231, -0.07719776,\n",
       "       -0.17697437, -0.20184666, -0.2388996 , -0.22645974, -0.05639659,\n",
       "        0.11166748,  0.02230861,  0.20594233,  0.23316745, -0.25374353,\n",
       "        0.32385197, -0.30544317, -0.23205018,  0.12524928,  0.48285797],\n",
       "      dtype=float32)"
      ]
     },
     "execution_count": 19,
     "metadata": {},
     "output_type": "execute_result"
    }
   ],
   "source": [
    "ru_fasttext_model.wv['мама']"
   ]
  },
  {
   "cell_type": "code",
   "execution_count": 20,
   "metadata": {
    "ExecuteTime": {
     "end_time": "2021-09-22T10:49:58.427344Z",
     "start_time": "2021-09-22T10:49:58.419998Z"
    }
   },
   "outputs": [
    {
     "data": {
      "text/plain": [
       "array([ 3.85075546e-04,  3.01149837e-03,  3.17327795e-05,  1.94420456e-03,\n",
       "        6.97697862e-04,  2.02145963e-03,  3.80287832e-03,  2.83198408e-03,\n",
       "       -1.47738191e-03, -4.02460713e-03, -1.22581038e-03, -7.63160133e-05,\n",
       "       -1.38173962e-03,  4.10432462e-03,  2.21307483e-03,  4.59163624e-04,\n",
       "       -2.73794495e-03, -4.64609964e-03,  1.93261309e-03,  6.83820341e-04,\n",
       "        3.44210188e-04, -1.85020291e-03,  2.68869265e-03,  3.96884000e-03,\n",
       "        3.01748211e-03,  3.63865797e-03, -2.20789062e-03, -2.29436625e-03,\n",
       "        2.51563103e-03, -1.72434840e-03, -4.36912570e-03, -3.40993004e-03,\n",
       "        1.08170370e-03, -1.37592526e-03, -4.18728497e-03,  1.00846600e-03,\n",
       "        1.63495087e-03, -2.74242461e-03, -1.42862977e-04, -2.79138658e-05,\n",
       "        1.67191285e-03,  2.49654101e-03, -3.64220061e-04, -3.33231804e-03,\n",
       "       -9.92840389e-04,  1.12830254e-03,  1.31829269e-03,  5.62148576e-04,\n",
       "       -3.08948336e-03,  1.09364756e-03,  1.19569537e-03,  1.10883696e-03,\n",
       "        2.80107102e-08, -3.27079557e-03, -2.49639765e-04,  5.15922206e-04,\n",
       "       -1.28617894e-03,  3.27099755e-04, -3.68451490e-03,  1.06754608e-03,\n",
       "        6.46162196e-04, -2.10624561e-03,  9.45644206e-05, -1.64192647e-03,\n",
       "        4.25941107e-05,  1.20610942e-03, -1.40944961e-03,  1.80909131e-03,\n",
       "        2.11108848e-03, -3.46958148e-03, -2.78462772e-03,  1.62364478e-04,\n",
       "       -3.20972572e-03, -3.35634779e-03,  7.66366429e-04,  8.25313211e-04,\n",
       "        1.80851552e-03, -4.75164532e-04,  1.16966112e-04,  4.38556192e-04,\n",
       "       -2.18688720e-03, -3.53785639e-04,  2.69746315e-03, -2.60271388e-03,\n",
       "        7.18094932e-04, -2.02171481e-03,  1.15887642e-05,  2.76871049e-03,\n",
       "       -7.54426932e-04, -4.33712470e-04,  1.51206017e-03,  3.27865896e-03,\n",
       "       -1.61411869e-03, -1.19949924e-03,  1.68504368e-03,  3.31386435e-03,\n",
       "       -5.45230985e-04, -2.96789943e-03, -1.39986968e-03,  1.83857745e-03,\n",
       "        4.47450206e-04, -3.48665100e-03,  2.25379341e-03,  1.16576186e-04,\n",
       "        5.21938433e-04, -5.93001314e-04,  1.28205179e-03, -2.24644877e-03,\n",
       "       -1.41212968e-05, -1.19253073e-03, -2.76495120e-03,  1.87275713e-04,\n",
       "       -3.30666197e-03,  2.00671493e-03,  7.00173259e-04, -1.22362957e-03,\n",
       "        1.00178539e-03,  4.46887425e-04,  1.28817861e-03,  1.57982553e-03,\n",
       "       -1.69251254e-03, -3.93997761e-04,  2.42967930e-04,  1.88563741e-03,\n",
       "        3.66368738e-04,  2.43960740e-03, -1.59990683e-03,  2.50785472e-03,\n",
       "       -4.09064611e-04, -1.48708199e-03,  4.43305675e-04, -2.28662160e-03,\n",
       "        9.30525421e-04,  3.45441815e-03, -2.18249916e-04, -1.77119579e-03,\n",
       "       -1.41770439e-03, -1.29321346e-03, -8.75765691e-04,  1.11970515e-03,\n",
       "        1.08409103e-03,  5.23612835e-04,  4.16030828e-03,  2.19588494e-03,\n",
       "       -3.58207617e-03,  2.26429128e-03, -2.70594773e-03, -3.46070179e-03,\n",
       "        2.65863782e-04,  2.99769058e-03], dtype=float32)"
      ]
     },
     "execution_count": 20,
     "metadata": {},
     "output_type": "execute_result"
    }
   ],
   "source": [
    "ru_fasttext_model.wv['dbfhsijokpal[;dksmfjnbhdekopfd]']"
   ]
  },
  {
   "cell_type": "markdown",
   "metadata": {},
   "source": [
    "### Similarity"
   ]
  },
  {
   "cell_type": "code",
   "execution_count": 21,
   "metadata": {
    "ExecuteTime": {
     "end_time": "2021-09-22T10:49:58.442180Z",
     "start_time": "2021-09-22T10:49:58.429479Z"
    }
   },
   "outputs": [
    {
     "data": {
      "text/plain": [
       "[('Сказала', 0.7283618450164795),\n",
       " ('сказала', 0.6995818018913269),\n",
       " ('указала', 0.6820538640022278),\n",
       " ('выказала', 0.6556598544120789),\n",
       " ('отказала', 0.6369907259941101),\n",
       " ('сказала,', 0.6306861042976379),\n",
       " ('сказала…', 0.630251944065094),\n",
       " ('сказала:', 0.6161987781524658),\n",
       " ('мила', 0.6053548455238342),\n",
       " ('думала', 0.6015428900718689)]"
      ]
     },
     "execution_count": 21,
     "metadata": {},
     "output_type": "execute_result"
    }
   ],
   "source": [
    "ru_fasttext_model.wv.most_similar(\n",
    "    positive=['мама'],\n",
    "    negative=['папа'],\n",
    ")"
   ]
  },
  {
   "cell_type": "code",
   "execution_count": 22,
   "metadata": {
    "ExecuteTime": {
     "end_time": "2021-09-22T10:49:58.452157Z",
     "start_time": "2021-09-22T10:49:58.445055Z"
    }
   },
   "outputs": [
    {
     "data": {
      "text/plain": [
       "0.9872185"
      ]
     },
     "execution_count": 22,
     "metadata": {},
     "output_type": "execute_result"
    }
   ],
   "source": [
    "ru_fasttext_model.wv.similarity(\n",
    "    w1='мама',\n",
    "    w2='папа',\n",
    ")"
   ]
  },
  {
   "cell_type": "code",
   "execution_count": 23,
   "metadata": {
    "ExecuteTime": {
     "end_time": "2021-09-22T10:49:58.466245Z",
     "start_time": "2021-09-22T10:49:58.458103Z"
    }
   },
   "outputs": [
    {
     "data": {
      "text/plain": [
       "0.21144028"
      ]
     },
     "execution_count": 23,
     "metadata": {},
     "output_type": "execute_result"
    }
   ],
   "source": [
    "ru_fasttext_model.wv.similarity(\n",
    "    w1='богатый',\n",
    "    w2='князь',\n",
    ")"
   ]
  },
  {
   "cell_type": "markdown",
   "metadata": {},
   "source": [
    "### Word Match"
   ]
  },
  {
   "cell_type": "code",
   "execution_count": 24,
   "metadata": {
    "ExecuteTime": {
     "end_time": "2021-09-22T10:49:58.475674Z",
     "start_time": "2021-09-22T10:49:58.469999Z"
    }
   },
   "outputs": [
    {
     "data": {
      "text/plain": [
       "'князь'"
      ]
     },
     "execution_count": 24,
     "metadata": {},
     "output_type": "execute_result"
    }
   ],
   "source": [
    "ru_fasttext_model.wv.doesnt_match(['люди', 'закон', 'крестьяне', 'земля', 'князь'])"
   ]
  },
  {
   "cell_type": "markdown",
   "metadata": {},
   "source": [
    "### Word Movement Distance"
   ]
  },
  {
   "cell_type": "code",
   "execution_count": 25,
   "metadata": {
    "ExecuteTime": {
     "end_time": "2021-09-22T10:49:58.483665Z",
     "start_time": "2021-09-22T10:49:58.477976Z"
    }
   },
   "outputs": [
    {
     "data": {
      "text/plain": [
       "0.7998454934310913"
      ]
     },
     "execution_count": 25,
     "metadata": {},
     "output_type": "execute_result"
    }
   ],
   "source": [
    "ru_fasttext_model.wv.wmdistance(['крестьяне', 'земля'], ['князь', 'богатсвтво'])"
   ]
  },
  {
   "cell_type": "code",
   "execution_count": 26,
   "metadata": {
    "ExecuteTime": {
     "end_time": "2021-09-22T10:49:58.492182Z",
     "start_time": "2021-09-22T10:49:58.486964Z"
    }
   },
   "outputs": [
    {
     "data": {
      "text/plain": [
       "0.5155532816905976"
      ]
     },
     "execution_count": 26,
     "metadata": {},
     "output_type": "execute_result"
    }
   ],
   "source": [
    "ru_word2vec_model.wv.wmdistance(['крестьяне', 'земля'], ['обед', 'ужин'])"
   ]
  },
  {
   "cell_type": "code",
   "execution_count": 27,
   "metadata": {
    "ExecuteTime": {
     "end_time": "2021-09-22T10:49:58.500562Z",
     "start_time": "2021-09-22T10:49:58.494361Z"
    },
    "scrolled": false
   },
   "outputs": [
    {
     "data": {
      "text/plain": [
       "0.45154384180575613"
      ]
     },
     "execution_count": 27,
     "metadata": {},
     "output_type": "execute_result"
    }
   ],
   "source": [
    "ru_fasttext_model.wv.wmdistance(['крестьяне', 'земля'], ['бедность', 'нищета'])"
   ]
  },
  {
   "cell_type": "markdown",
   "metadata": {},
   "source": [
    "# Facebook FastText"
   ]
  },
  {
   "cell_type": "code",
   "execution_count": 28,
   "metadata": {
    "ExecuteTime": {
     "end_time": "2021-09-22T10:49:58.511020Z",
     "start_time": "2021-09-22T10:49:58.503258Z"
    }
   },
   "outputs": [],
   "source": [
    "import fasttext"
   ]
  },
  {
   "cell_type": "markdown",
   "metadata": {},
   "source": [
    "## Train"
   ]
  },
  {
   "cell_type": "code",
   "execution_count": 29,
   "metadata": {
    "ExecuteTime": {
     "end_time": "2021-09-22T10:50:15.822243Z",
     "start_time": "2021-09-22T10:49:58.513057Z"
    }
   },
   "outputs": [
    {
     "name": "stdout",
     "output_type": "stream",
     "text": [
      "CPU times: user 1min 24s, sys: 1.47 s, total: 1min 26s\n",
      "Wall time: 17.3 s\n"
     ]
    }
   ],
   "source": [
    "%%time\n",
    "\n",
    "ru_fasttext_facebook_model = fasttext.train_unsupervised(\n",
    "    '../../data/war_and_peace_ru.txt',  # Dataset\n",
    "    dim=150,  # Embedding Dim\n",
    "    minn=3,  # Min len of subword\n",
    "    maxn=6,  # Max len of subword\n",
    "    epoch=10,  # Number of epochs to train model\n",
    "    lr=0.1,  # Learning rate to train model\n",
    ")\n",
    "\n",
    "bad_model = fasttext.train_unsupervised(\n",
    "    '../../data/war_and_peace_ru.txt',  # Dataset\n",
    "    dim=150,  # Embedding Dim\n",
    "    minn=0,  # Min len of subword\n",
    "    maxn=0,  # Max len of subword\n",
    "    epoch=10,  # Number of epochs to train model\n",
    "    lr=0.1,  # Learning rate to train model\n",
    ")"
   ]
  },
  {
   "cell_type": "markdown",
   "metadata": {},
   "source": [
    "## Save"
   ]
  },
  {
   "cell_type": "code",
   "execution_count": 30,
   "metadata": {
    "ExecuteTime": {
     "end_time": "2021-09-22T10:50:18.539961Z",
     "start_time": "2021-09-22T10:50:15.826388Z"
    }
   },
   "outputs": [],
   "source": [
    "ru_fasttext_facebook_model.save_model('ru_fasttext_facebook_model')"
   ]
  },
  {
   "cell_type": "markdown",
   "metadata": {},
   "source": [
    "## Load"
   ]
  },
  {
   "cell_type": "code",
   "execution_count": 31,
   "metadata": {
    "ExecuteTime": {
     "end_time": "2021-09-22T10:50:20.552396Z",
     "start_time": "2021-09-22T10:50:18.543189Z"
    }
   },
   "outputs": [
    {
     "name": "stderr",
     "output_type": "stream",
     "text": [
      "Warning : `load_model` does not return WordVectorModel or SupervisedModel any more, but a `FastText` object which is very similar.\n"
     ]
    }
   ],
   "source": [
    "ru_fasttext_facebook_model = fasttext.load_model(\"ru_fasttext_facebook_model\")"
   ]
  },
  {
   "cell_type": "markdown",
   "metadata": {},
   "source": [
    "## Usage"
   ]
  },
  {
   "cell_type": "markdown",
   "metadata": {},
   "source": [
    "### Word Embedding"
   ]
  },
  {
   "cell_type": "code",
   "execution_count": 32,
   "metadata": {
    "ExecuteTime": {
     "end_time": "2021-09-22T10:50:20.561692Z",
     "start_time": "2021-09-22T10:50:20.554855Z"
    }
   },
   "outputs": [
    {
     "data": {
      "text/plain": [
       "array([-0.22573905,  0.09062721,  0.20082895,  0.09735801,  0.14006566,\n",
       "        0.16550614, -0.2806072 , -0.18519297,  0.3628306 , -0.32520467,\n",
       "        0.20114017, -0.58898336, -0.18697718, -0.3127598 ,  0.03013002,\n",
       "       -0.03638166,  0.10704143, -0.66770947,  0.4702613 , -0.3393418 ,\n",
       "        0.5046367 , -0.5005997 , -0.1508333 ,  0.05985669,  0.01231881,\n",
       "        0.11452363,  0.01655716,  0.15336166,  0.24988034,  0.18887183,\n",
       "        0.24877396, -0.12596226, -0.34023768,  0.38373804, -0.20339887,\n",
       "       -0.2773579 ,  0.04374941, -0.01963592,  0.05784079,  0.39425132,\n",
       "        0.19168611,  0.13892962, -0.40764856,  0.25078484, -0.03839865,\n",
       "       -0.01385576,  0.05467789, -0.04954016,  0.29946375,  0.05662804,\n",
       "       -0.38291392, -0.12723361,  0.29473165, -0.21876808,  0.43953773,\n",
       "       -0.07155332, -0.49646017, -0.16473792,  0.10973284, -0.00479851,\n",
       "        0.19497405,  0.36801225, -0.30600533, -0.3598574 , -0.02709599,\n",
       "        0.10158551,  0.06304318, -0.12041765, -0.3047463 ,  0.16252005,\n",
       "        0.44597587, -0.10145064,  0.09102004, -0.16300617,  0.00876996,\n",
       "        0.06129688, -0.14812844, -0.0206163 ,  0.22562551,  0.22045048,\n",
       "       -0.15202732,  0.15403824,  0.0418131 ,  0.19617973, -0.02541372,\n",
       "        0.22232257,  0.37225816,  0.40062165,  0.07838366, -0.32412815,\n",
       "        0.26772147, -0.31377888, -0.47463608,  0.13113539, -0.10249978,\n",
       "        0.63944435,  0.02211848,  0.5245913 , -0.07408741, -0.24810858,\n",
       "       -0.01310366, -0.19813098,  0.4453487 ,  0.35584027,  0.23988195,\n",
       "        0.5108633 , -0.11053908,  0.20476006,  0.3849201 , -0.241673  ,\n",
       "        0.09662789, -0.5438142 , -0.54678005, -0.18296503,  0.11680865,\n",
       "       -0.16057615, -0.28237918, -0.8991338 , -0.4026291 , -0.36148697,\n",
       "       -0.01505837, -0.43531606,  0.24832992,  0.6195555 , -0.5060176 ,\n",
       "        0.13004155, -0.33713493,  0.06821364,  0.6213277 , -0.08477654,\n",
       "       -0.11571126, -0.11451397,  0.78297824, -0.10602986, -0.5051627 ,\n",
       "        0.13384537,  0.0410937 , -0.23127083, -0.5073777 ,  0.30278227,\n",
       "       -0.05635143, -0.18088077, -0.274725  ,  0.41583928,  0.1439821 ,\n",
       "       -0.23507069, -0.12248527,  0.17276445,  0.48135233, -0.01591947],\n",
       "      dtype=float32)"
      ]
     },
     "execution_count": 32,
     "metadata": {},
     "output_type": "execute_result"
    }
   ],
   "source": [
    "ru_fasttext_facebook_model['мама']"
   ]
  },
  {
   "cell_type": "code",
   "execution_count": 33,
   "metadata": {
    "ExecuteTime": {
     "end_time": "2021-09-22T10:50:20.569845Z",
     "start_time": "2021-09-22T10:50:20.563965Z"
    }
   },
   "outputs": [
    {
     "data": {
      "text/plain": [
       "array([ 4.31367988e-03, -7.19424756e-03,  5.30151697e-03, -8.55950173e-03,\n",
       "       -1.21310661e-02,  1.13120554e-02, -7.33871525e-03,  1.42786456e-02,\n",
       "       -1.18549131e-02, -9.22034960e-03, -4.79134358e-03, -2.26404183e-02,\n",
       "       -2.37308815e-03, -6.00447413e-03, -9.40568466e-03, -2.48440308e-03,\n",
       "        4.70446364e-04, -7.96907675e-03,  8.24849214e-03,  4.03395807e-03,\n",
       "       -7.85911363e-03, -1.04601877e-02,  1.22022964e-02,  5.90315554e-04,\n",
       "       -3.58045613e-03, -4.60239453e-03, -8.30739643e-03, -1.64318120e-03,\n",
       "       -3.64115136e-03,  1.19967363e-03, -6.33411482e-03,  1.90849509e-03,\n",
       "       -5.89067675e-03,  1.46455815e-04,  1.48940701e-02,  3.27771937e-04,\n",
       "        5.49447443e-03,  1.36960447e-02, -8.25620897e-04,  7.01746019e-03,\n",
       "        8.52918369e-04,  8.64018686e-03,  1.65678859e-02,  2.19676625e-02,\n",
       "        1.32994354e-02, -6.21814514e-03, -1.16556166e-02, -9.80300177e-03,\n",
       "       -3.77743854e-03, -4.33428539e-03,  5.01327543e-03, -7.36226840e-03,\n",
       "        1.24999741e-02, -4.99433745e-03, -1.51586439e-02,  8.88603646e-03,\n",
       "       -6.68319175e-04,  1.28698265e-02,  6.24493277e-03, -1.51560735e-02,\n",
       "        1.77910030e-02, -4.58416669e-03, -6.67046430e-03,  5.68292430e-03,\n",
       "       -4.00963845e-03, -5.58935385e-03,  1.70642161e-03,  1.23142439e-04,\n",
       "        1.67355798e-02,  5.90231968e-03,  3.71681666e-03,  3.76028032e-03,\n",
       "        6.25221571e-03,  4.41331998e-04,  1.20458547e-02,  2.82464060e-03,\n",
       "        3.61579041e-05,  8.06658622e-03,  1.93857756e-02,  2.89468048e-03,\n",
       "       -9.57610551e-03, -4.61898977e-03, -2.19124500e-02, -1.76291342e-03,\n",
       "        1.00317132e-02,  5.43743744e-03,  1.41981058e-02, -3.34958802e-03,\n",
       "        6.44673273e-05, -3.68065899e-03,  8.30947142e-03, -3.72040813e-04,\n",
       "       -4.66569420e-03,  6.30911859e-03,  3.79438396e-03,  7.41922064e-03,\n",
       "        4.64739744e-03, -1.13444990e-02, -1.07342862e-02, -7.18506332e-03,\n",
       "        1.13682076e-02, -1.79290418e-02,  1.52180418e-02,  3.35075310e-03,\n",
       "        6.22602832e-03,  5.86668961e-03,  3.56013328e-03,  7.45124044e-03,\n",
       "       -1.56603474e-02, -1.91971252e-03,  1.53603852e-02, -4.02494380e-03,\n",
       "       -2.52655265e-03, -8.62585753e-03,  1.55923162e-02, -3.65060056e-03,\n",
       "       -1.27045764e-03, -6.44773990e-03,  1.97583996e-03,  1.27966134e-02,\n",
       "        7.85932317e-03, -5.73910307e-03,  4.32426715e-03,  8.45837872e-03,\n",
       "        1.04659423e-02, -7.92507362e-03, -1.42323030e-02,  1.79545011e-03,\n",
       "       -1.67104863e-02,  3.70435067e-03, -1.37011393e-03,  1.99334743e-03,\n",
       "        7.93606567e-04, -1.62538644e-02, -1.55782129e-03, -1.30499778e-02,\n",
       "        9.94271692e-03, -1.20802019e-02,  2.91823247e-03,  1.71134137e-02,\n",
       "        7.65546691e-03, -6.22267229e-03,  4.74305777e-03, -1.09445583e-02,\n",
       "       -1.74580943e-02, -1.47190709e-02,  7.07373815e-03,  1.58235654e-02,\n",
       "       -3.77987255e-03,  6.38195174e-03], dtype=float32)"
      ]
     },
     "execution_count": 33,
     "metadata": {},
     "output_type": "execute_result"
    }
   ],
   "source": [
    "ru_fasttext_facebook_model['hgvbjknlm;,']"
   ]
  },
  {
   "cell_type": "code",
   "execution_count": 34,
   "metadata": {
    "ExecuteTime": {
     "end_time": "2021-09-22T10:50:20.577588Z",
     "start_time": "2021-09-22T10:50:20.572087Z"
    }
   },
   "outputs": [
    {
     "data": {
      "text/plain": [
       "array([0., 0., 0., 0., 0., 0., 0., 0., 0., 0., 0., 0., 0., 0., 0., 0., 0.,\n",
       "       0., 0., 0., 0., 0., 0., 0., 0., 0., 0., 0., 0., 0., 0., 0., 0., 0.,\n",
       "       0., 0., 0., 0., 0., 0., 0., 0., 0., 0., 0., 0., 0., 0., 0., 0., 0.,\n",
       "       0., 0., 0., 0., 0., 0., 0., 0., 0., 0., 0., 0., 0., 0., 0., 0., 0.,\n",
       "       0., 0., 0., 0., 0., 0., 0., 0., 0., 0., 0., 0., 0., 0., 0., 0., 0.,\n",
       "       0., 0., 0., 0., 0., 0., 0., 0., 0., 0., 0., 0., 0., 0., 0., 0., 0.,\n",
       "       0., 0., 0., 0., 0., 0., 0., 0., 0., 0., 0., 0., 0., 0., 0., 0., 0.,\n",
       "       0., 0., 0., 0., 0., 0., 0., 0., 0., 0., 0., 0., 0., 0., 0., 0., 0.,\n",
       "       0., 0., 0., 0., 0., 0., 0., 0., 0., 0., 0., 0., 0., 0.],\n",
       "      dtype=float32)"
      ]
     },
     "execution_count": 34,
     "metadata": {},
     "output_type": "execute_result"
    }
   ],
   "source": [
    "bad_model['hgvbjknlm;,']"
   ]
  },
  {
   "cell_type": "markdown",
   "metadata": {},
   "source": [
    "### Similarity"
   ]
  },
  {
   "cell_type": "code",
   "execution_count": 35,
   "metadata": {
    "ExecuteTime": {
     "end_time": "2021-09-22T10:50:20.591269Z",
     "start_time": "2021-09-22T10:50:20.580183Z"
    }
   },
   "outputs": [
    {
     "data": {
      "text/plain": [
       "[(0.46329864859580994, 'молодые'),\n",
       " (0.44947105646133423, 'Люди'),\n",
       " (0.4274621903896332, 'какому'),\n",
       " (0.42561104893684387, 'люди,'),\n",
       " (0.38691502809524536, 'многие'),\n",
       " (0.382607102394104, 'отыскивать'),\n",
       " (0.3809645175933838, 'делаются'),\n",
       " (0.37505224347114563, 'зло'),\n",
       " (0.3722766935825348, 'обществу,'),\n",
       " (0.36668944358825684, 'крыльце')]"
      ]
     },
     "execution_count": 35,
     "metadata": {},
     "output_type": "execute_result"
    }
   ],
   "source": [
    "bad_model.get_nearest_neighbors('люди')"
   ]
  },
  {
   "cell_type": "code",
   "execution_count": 36,
   "metadata": {
    "ExecuteTime": {
     "end_time": "2021-09-22T10:50:20.634760Z",
     "start_time": "2021-09-22T10:50:20.594300Z"
    }
   },
   "outputs": [
    {
     "data": {
      "text/plain": [
       "[(0.7033798098564148, 'Люди'),\n",
       " (0.6967329382896423, 'люди,'),\n",
       " (0.41316723823547363, 'молодые'),\n",
       " (0.40490251779556274, 'людям'),\n",
       " (0.39096182584762573, 'члены'),\n",
       " (0.3801904618740082, 'любят'),\n",
       " (0.3751494884490967, 'нахмурившись'),\n",
       " (0.3729250133037567, 'делаются'),\n",
       " (0.36756178736686707, 'редко'),\n",
       " (0.3623075485229492, 'сидели,')]"
      ]
     },
     "execution_count": 36,
     "metadata": {},
     "output_type": "execute_result"
    }
   ],
   "source": [
    "ru_fasttext_facebook_model.get_nearest_neighbors('люди')"
   ]
  },
  {
   "cell_type": "markdown",
   "metadata": {},
   "source": [
    "### Word Analogies"
   ]
  },
  {
   "cell_type": "code",
   "execution_count": 37,
   "metadata": {
    "ExecuteTime": {
     "end_time": "2021-09-22T10:50:20.645024Z",
     "start_time": "2021-09-22T10:50:20.637795Z"
    }
   },
   "outputs": [
    {
     "data": {
      "text/plain": [
       "[(0.5121732950210571, 'мужем'),\n",
       " (0.46543267369270325, 'мужем,'),\n",
       " (0.45562535524368286, 'мужа,'),\n",
       " (0.43418294191360474, 'мужу.'),\n",
       " (0.4292517602443695, 'жена'),\n",
       " (0.42545434832572937, 'мужа.'),\n",
       " (0.41467392444610596, 'репутацию'),\n",
       " (0.4101126492023468, 'дочери.'),\n",
       " (0.39722657203674316, 'ангела'),\n",
       " (0.3921177387237549, 'дама')]"
      ]
     },
     "execution_count": 37,
     "metadata": {},
     "output_type": "execute_result"
    }
   ],
   "source": [
    "# wordA - wordB + wordC\n",
    "\n",
    "ru_fasttext_facebook_model.get_analogies('мама', 'папа',  'муж')"
   ]
  },
  {
   "cell_type": "markdown",
   "metadata": {},
   "source": [
    "### Sentence Vector"
   ]
  },
  {
   "cell_type": "code",
   "execution_count": 38,
   "metadata": {
    "ExecuteTime": {
     "end_time": "2021-09-22T10:50:20.663323Z",
     "start_time": "2021-09-22T10:50:20.655209Z"
    }
   },
   "outputs": [
    {
     "data": {
      "text/plain": [
       "array([ 6.0718916e-03,  2.0929972e-02, -1.6163753e-02,  5.0170563e-02,\n",
       "       -5.0120942e-02,  2.2582600e-02,  3.8741976e-03,  1.7326303e-02,\n",
       "        1.1078587e-02, -8.8962656e-04,  6.7996375e-02,  3.9925281e-02,\n",
       "        3.1967115e-02, -4.5510503e-03,  6.1684061e-02,  2.1710295e-02,\n",
       "        5.4149579e-02, -3.6655027e-02,  1.6128417e-02, -2.2948069e-02,\n",
       "        4.2405922e-02,  1.7332172e-02, -7.0304431e-02,  6.2627224e-03,\n",
       "        3.8002287e-03, -4.3780845e-02, -7.2021499e-02,  1.5430346e-02,\n",
       "       -1.0349106e-02,  1.1373614e-02, -2.4150473e-03, -1.6092256e-02,\n",
       "        1.3575211e-02,  4.6125680e-02,  8.0780834e-03, -5.5410601e-02,\n",
       "       -4.4158030e-02,  1.3147298e-02,  2.8396728e-02,  5.8240477e-02,\n",
       "        1.8601881e-02,  2.2354633e-02, -1.3716841e-02, -2.4135681e-02,\n",
       "        1.9760614e-02,  2.5483822e-02,  2.0223777e-03,  4.1687083e-03,\n",
       "       -3.4163080e-03,  1.7220153e-02, -2.9991642e-02,  1.1045831e-03,\n",
       "        1.7747594e-04,  4.3186855e-02, -1.7950542e-02, -4.2334065e-02,\n",
       "       -3.5473835e-02, -5.0453760e-02,  5.3161636e-02,  3.4547791e-02,\n",
       "       -2.3941882e-02, -4.3817069e-02, -4.9690609e-03,  2.5986519e-02,\n",
       "        5.8308300e-02, -1.0184416e-02, -2.1680407e-02, -6.4766295e-02,\n",
       "        1.1622357e-02,  5.5529155e-02, -2.5790231e-02, -1.0988286e-03,\n",
       "        1.1828931e-02,  1.2053858e-02, -2.0375829e-02, -1.6491530e-02,\n",
       "        3.3254225e-02,  2.1817019e-02,  4.9521387e-02,  4.1601304e-02,\n",
       "       -4.0704340e-02, -2.3797853e-03, -8.6868536e-03,  1.9175617e-02,\n",
       "        1.5895659e-02,  4.3745707e-03,  3.3760801e-02,  5.8550932e-02,\n",
       "        1.5924610e-02, -3.6250637e-03, -1.0010484e-02, -4.2487241e-02,\n",
       "       -4.2727571e-02, -1.2948890e-02, -1.8744367e-04,  6.3529059e-02,\n",
       "        2.9066542e-02,  1.6043862e-02,  3.0260794e-02, -1.0072637e-02,\n",
       "        9.0859290e-03,  1.0086655e-02, -2.0256415e-03,  2.7700718e-02,\n",
       "        3.5965756e-02,  2.1571195e-02,  6.0231057e-03,  4.4249572e-02,\n",
       "        1.6480509e-02,  4.7524995e-04,  3.1716796e-03, -4.5012381e-02,\n",
       "        1.5076967e-02,  7.0052110e-03,  3.5228736e-03, -3.1056010e-05,\n",
       "       -4.9174614e-02, -6.9575548e-02, -3.0464958e-02,  5.4583792e-03,\n",
       "       -1.8665100e-02, -4.8465751e-02,  1.8696731e-02,  7.3851921e-02,\n",
       "       -7.3677748e-02,  5.9970934e-02, -6.7137154e-03,  3.0765377e-02,\n",
       "        3.2719575e-02, -1.5962465e-02,  3.5449654e-02,  7.7758511e-03,\n",
       "        2.4450803e-02, -3.0104591e-02,  1.9603144e-02,  2.8674830e-02,\n",
       "        1.9211153e-02,  3.0718416e-02, -6.3686948e-03,  3.5322282e-02,\n",
       "       -1.2400444e-02, -2.1278884e-02, -4.9056716e-02,  5.8211543e-02,\n",
       "        3.7542932e-02, -3.4653563e-02, -9.7101768e-03,  4.0390287e-02,\n",
       "        6.5321200e-02, -4.7534674e-02], dtype=float32)"
      ]
     },
     "execution_count": 38,
     "metadata": {},
     "output_type": "execute_result"
    }
   ],
   "source": [
    "# An important thing!\n",
    "ru_text_with_replaced_back_slash_n = ru_text.replace('\\n', ' ')\n",
    "\n",
    "ru_fasttext_facebook_model.get_sentence_vector(ru_text_with_replaced_back_slash_n)"
   ]
  },
  {
   "cell_type": "markdown",
   "metadata": {},
   "source": [
    "## Text Classification"
   ]
  },
  {
   "cell_type": "code",
   "execution_count": 39,
   "metadata": {
    "ExecuteTime": {
     "end_time": "2021-09-22T10:50:25.489351Z",
     "start_time": "2021-09-22T10:50:20.668879Z"
    }
   },
   "outputs": [],
   "source": [
    "## Task -> Long/Short text?\n",
    "\n",
    "ru_fasttext_facebook_supervised_model = fasttext.train_supervised(\n",
    "    '../../data/war_and_peace_ru_supervised.txt',  # Dataset\n",
    "    dim=150,  # Embedding Dim\n",
    "    minn=3,  # Min len of subword\n",
    "    maxn=6,  # Max len of subword\n",
    "    epoch=10,  # Number of epochs to train model\n",
    "    lr=0.1,  # Learning rate to train model\n",
    ")"
   ]
  },
  {
   "cell_type": "code",
   "execution_count": 40,
   "metadata": {
    "ExecuteTime": {
     "end_time": "2021-09-22T10:50:25.500627Z",
     "start_time": "2021-09-22T10:50:25.492230Z"
    }
   },
   "outputs": [
    {
     "data": {
      "text/plain": [
       "(('__label__short',), array([0.96955568]))"
      ]
     },
     "execution_count": 40,
     "metadata": {},
     "output_type": "execute_result"
    }
   ],
   "source": [
    "ru_fasttext_facebook_supervised_model.predict('привет, как дела?')"
   ]
  },
  {
   "cell_type": "code",
   "execution_count": 41,
   "metadata": {
    "ExecuteTime": {
     "end_time": "2021-09-22T10:50:25.511552Z",
     "start_time": "2021-09-22T10:50:25.506047Z"
    }
   },
   "outputs": [
    {
     "data": {
      "text/plain": [
       "(('__label__long',), array([0.70904726]))"
      ]
     },
     "execution_count": 41,
     "metadata": {},
     "output_type": "execute_result"
    }
   ],
   "source": [
    "ru_fasttext_facebook_supervised_model.predict(ru_text_with_replaced_back_slash_n)"
   ]
  }
 ],
 "metadata": {
  "kernelspec": {
   "display_name": "Python 3",
   "language": "python",
   "name": "python3"
  },
  "language_info": {
   "codemirror_mode": {
    "name": "ipython",
    "version": 3
   },
   "file_extension": ".py",
   "mimetype": "text/x-python",
   "name": "python",
   "nbconvert_exporter": "python",
   "pygments_lexer": "ipython3",
   "version": "3.6.9"
  },
  "toc": {
   "base_numbering": 1,
   "nav_menu": {},
   "number_sections": true,
   "sideBar": true,
   "skip_h1_title": false,
   "title_cell": "Table of Contents",
   "title_sidebar": "Contents",
   "toc_cell": false,
   "toc_position": {
    "height": "663.478271484375px",
    "left": "22px",
    "top": "0px",
    "width": "272.43206787109375px"
   },
   "toc_section_display": true,
   "toc_window_display": true
  },
  "varInspector": {
   "cols": {
    "lenName": 16,
    "lenType": 16,
    "lenVar": 40
   },
   "kernels_config": {
    "python": {
     "delete_cmd_postfix": "",
     "delete_cmd_prefix": "del ",
     "library": "var_list.py",
     "varRefreshCmd": "print(var_dic_list())"
    },
    "r": {
     "delete_cmd_postfix": ") ",
     "delete_cmd_prefix": "rm(",
     "library": "var_list.r",
     "varRefreshCmd": "cat(var_dic_list()) "
    }
   },
   "types_to_exclude": [
    "module",
    "function",
    "builtin_function_or_method",
    "instance",
    "_Feature"
   ],
   "window_display": false
  }
 },
 "nbformat": 4,
 "nbformat_minor": 1
}
